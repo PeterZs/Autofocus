{
  "nbformat": 4,
  "nbformat_minor": 0,
  "metadata": {
    "colab": {
      "name": "TFM_ASANZC_v1.ipynb",
      "provenance": [],
      "collapsed_sections": [],
      "toc_visible": true
    },
    "kernelspec": {
      "name": "python3",
      "display_name": "Python 3"
    },
    "accelerator": "GPU"
  },
  "cells": [
    {
      "cell_type": "markdown",
      "metadata": {
        "id": "C2tk2zWpJuf4",
        "colab_type": "text"
      },
      "source": [
        "# Cálculo del nivel de enfoque sobre zonas de una imagen\n",
        "\n",
        "### Antonio Sanz \n",
        "\n",
        "En este notebook entreno un red convolucional sobre el dataset de imágenes cifar-10. Esta dataset contiene 50K imágenes, todas ellas con un nivel de contraste alto que consideraremos óptimo en este caso. Para poder entrenar nuestra red con imagenes desenfocadas y borrosas, he aplicado un filtro Gaussiano con diferentes tamaños de Kernel para obtener 6 enfoques diferentes sobre cada imagen. Los directorios de train y test tienen esta estructura:\n",
        "\n",
        "- /train\n",
        " - /blur3\n",
        " - /blur9\n",
        " - /blur15\n",
        " - /focus\n",
        "- /test\n",
        " - /blur3\n",
        " - /blur9\n",
        " - /blur15\n",
        " - /focus"
      ]
    },
    {
      "cell_type": "code",
      "metadata": {
        "id": "aIb47TSRMLxI",
        "colab_type": "code",
        "colab": {}
      },
      "source": [
        "%tensorflow_version 2.x\n",
        "\n",
        "import tensorflow as tf\n",
        "import subprocess\n",
        "import os\n",
        "import numpy as np\n",
        "import cv2 as cv\n",
        "\n",
        "import matplotlib.pyplot as plt\n",
        "from keras import optimizers\n",
        "from keras.models import load_model\n",
        "from keras.models import Sequential\n",
        "from keras.layers import Dense\n",
        "from keras.layers import Dropout\n",
        "from keras.layers import Flatten\n",
        "from keras.layers import Input\n",
        "\n",
        "from keras.constraints import maxnorm\n",
        "from keras.layers.convolutional import Convolution2D\n",
        "from keras.layers.convolutional import MaxPooling2D\n",
        "from keras.preprocessing.image import ImageDataGenerator\n",
        "\n",
        "from keras.models import load_model\n",
        "\n",
        "%matplotlib inline"
      ],
      "execution_count": 0,
      "outputs": []
    },
    {
      "cell_type": "code",
      "metadata": {
        "id": "padZb4NnEWis",
        "colab_type": "code",
        "outputId": "8a907db7-0204-4447-a8d1-8ee9a3e81218",
        "colab": {
          "base_uri": "https://localhost:8080/",
          "height": 238
        }
      },
      "source": [
        "from google.colab import drive\n",
        "\n",
        "drivedir = '/content/gdrive'\n",
        "\n",
        "drive.mount(drivedir)\n",
        "\n",
        "print('Google Drive mount completed')\n",
        "\n",
        "#check correct mount of drive directory\n",
        "!df -h"
      ],
      "execution_count": 0,
      "outputs": [
        {
          "output_type": "stream",
          "text": [
            "Drive already mounted at /content/gdrive; to attempt to forcibly remount, call drive.mount(\"/content/gdrive\", force_remount=True).\n",
            "Google Drive mount completed\n",
            "Filesystem      Size  Used Avail Use% Mounted on\n",
            "overlay          69G   34G   32G  52% /\n",
            "tmpfs            64M     0   64M   0% /dev\n",
            "tmpfs           6.4G     0  6.4G   0% /sys/fs/cgroup\n",
            "shm             5.8G     0  5.8G   0% /dev/shm\n",
            "/dev/sda1        75G   35G   40G  47% /opt/bin\n",
            "tmpfs           6.4G   16K  6.4G   1% /var/colab\n",
            "tmpfs           6.4G     0  6.4G   0% /proc/acpi\n",
            "tmpfs           6.4G     0  6.4G   0% /proc/scsi\n",
            "tmpfs           6.4G     0  6.4G   0% /sys/firmware\n",
            "drive            15G  5.8G  9.3G  39% /content/gdrive\n"
          ],
          "name": "stdout"
        }
      ]
    },
    {
      "cell_type": "code",
      "metadata": {
        "id": "fVVQrsyZWagb",
        "colab_type": "code",
        "outputId": "f7b2d1e0-4727-4d18-c4bc-585d2e1d5ec2",
        "colab": {
          "base_uri": "https://localhost:8080/",
          "height": 119
        }
      },
      "source": [
        "! git clone https://github.com/antonio490/Autofocus.git"
      ],
      "execution_count": 0,
      "outputs": [
        {
          "output_type": "stream",
          "text": [
            "Cloning into 'Autofocus'...\n",
            "remote: Enumerating objects: 980220, done.\u001b[K\n",
            "remote: Total 980220 (delta 0), reused 0 (delta 0), pack-reused 980220\u001b[K\n",
            "Receiving objects: 100% (980220/980220), 874.16 MiB | 24.12 MiB/s, done.\n",
            "Resolving deltas: 100% (135/135), done.\n",
            "Checking out files: 100% (310767/310767), done.\n"
          ],
          "name": "stdout"
        }
      ]
    },
    {
      "cell_type": "code",
      "metadata": {
        "id": "GXxfgTBmWdg6",
        "colab_type": "code",
        "colab": {}
      },
      "source": [
        "# DIRECTORIOS\n",
        "\n",
        "DIR_GDRIVE = drivedir + '/My Drive/TFM/modelos/' \n",
        "DIR_GDRIVE_PLOTS = drivedir + '/My Drive/TFM/plots/' \n",
        "\n",
        "\n",
        "prac_dir = '/content/Autofocus/out/' # Dataset con 2 clases\n",
        "#prac_dir = '/content/Autofocus/out_multiclass/' # Dataset con 4 clases\n",
        "\n",
        "\n",
        "train_dir = prac_dir + 'train' # Directorio datos train\n",
        "test_dir = prac_dir + 'test' # Directorio datos test\n",
        "\n",
        "os.chdir(prac_dir) # Nos desplazamos al directorio padre"
      ],
      "execution_count": 0,
      "outputs": []
    },
    {
      "cell_type": "code",
      "metadata": {
        "id": "nsj_sslcWgLC",
        "colab_type": "code",
        "colab": {}
      },
      "source": [
        "# HIPERPARAMETROS \n",
        "\n",
        "BATCH_SIZE = 64\n",
        "IMAGE_RESIZE = 32"
      ],
      "execution_count": 0,
      "outputs": []
    },
    {
      "cell_type": "code",
      "metadata": {
        "id": "aVQ-KVNrWlZ7",
        "colab_type": "code",
        "colab": {}
      },
      "source": [
        "# AUMENTAMOS CONJUNTO DE DATOS DE ENTRENAMIENTO\n",
        "\n",
        "train_datagen = ImageDataGenerator(\n",
        "    rescale=1./255,\n",
        "    horizontal_flip = True,\n",
        "    )\n",
        "\n",
        "test_datagen = ImageDataGenerator(rescale=1./255)"
      ],
      "execution_count": 0,
      "outputs": []
    },
    {
      "cell_type": "code",
      "metadata": {
        "id": "cG1Qdm0GW1L7",
        "colab_type": "code",
        "outputId": "c05a0062-38bc-4941-bdff-af0ed83b1522",
        "colab": {
          "base_uri": "https://localhost:8080/",
          "height": 51
        }
      },
      "source": [
        "train_generator = train_datagen.flow_from_directory(\n",
        "        train_dir,\n",
        "        target_size=(IMAGE_RESIZE,IMAGE_RESIZE),\n",
        "        batch_size=BATCH_SIZE,\n",
        "        #color_mode=\"grayscale\",\n",
        "        class_mode='categorical'\n",
        "        )\n",
        "\n",
        "validation_generator = test_datagen.flow_from_directory(\n",
        "        test_dir,\n",
        "        target_size=(IMAGE_RESIZE,IMAGE_RESIZE),\n",
        "        batch_size=BATCH_SIZE,\n",
        "        #color_mode=\"grayscale\",\n",
        "        class_mode='categorical'\n",
        "        )"
      ],
      "execution_count": 0,
      "outputs": [
        {
          "output_type": "stream",
          "text": [
            "Found 83828 images belonging to 2 classes.\n",
            "Found 25558 images belonging to 2 classes.\n"
          ],
          "name": "stdout"
        }
      ]
    },
    {
      "cell_type": "code",
      "metadata": {
        "id": "SGNDdiUaW5XX",
        "colab_type": "code",
        "colab": {}
      },
      "source": [
        "# HIPERPARAMETROS \n",
        "\n",
        "L_RATE  = 0.01\n",
        "EPOCHS = 30\n",
        "TRAIN_SAMPLES = train_generator.n \n",
        "VAL_SAMPLES = validation_generator.n \n",
        "NUM_CLASSES = train_generator.num_classes\n",
        "\n",
        "STEP_SIZE_TRAIN = train_generator.n//train_generator.batch_size\n",
        "STEP_SIZE_VAL = validation_generator.n//validation_generator.batch_size"
      ],
      "execution_count": 0,
      "outputs": []
    },
    {
      "cell_type": "code",
      "metadata": {
        "id": "NXsJrXZ9XVY0",
        "colab_type": "code",
        "colab": {}
      },
      "source": [
        "# CALLBACKS\n",
        "\n",
        "if NUM_CLASSES <= 2:\n",
        "\tACCURACY_THRESHOLD = 0.98\n",
        "elif NUM_CLASSES > 2:\n",
        "\tACCURACY_THRESHOLD = 0.96\n",
        "\n",
        "class MinAccuracy(tf.keras.callbacks.Callback):\n",
        "\tdef on_epoch_end(self, epoch, logs={}):\n",
        "\t\tif(logs.get('accuracy') > ACCURACY_THRESHOLD and epoch > 15):\n",
        "\t\t\tprint(\"\\nSe ha alcanzado un precisión del %2.2f%% , paramos entrenamiento!!\" %(ACCURACY_THRESHOLD*100))\n",
        "\t\t\tself.model.stop_training = True\n",
        "\n",
        "# Stop training when a monitored quantity has stopped improving.\n",
        "# patience: number of epochs that produced the monitored quantity with no improvement after which training will be stopped.\n",
        "\n",
        "early_stop = tf.keras.callbacks.EarlyStopping(monitor='val_loss', patience=4, verbose=1, min_delta=1e-4)  \n",
        "\n",
        "# Reduce learning rate when a metric has stopped improving.\n",
        "# This callback monitors a quantity and if no improvement is seen for a 'patience' number of epochs, the learning rate is reduced.\n",
        "\n",
        "reduce_lr = tf.keras.callbacks.ReduceLROnPlateau(monitor='val_loss', factor=0.1, patience=5, verbose=1, min_delta=1e-4)  \n",
        "\n",
        "\n",
        "# Instanciamos objeto MinAccuracy\n",
        "min_accuracy = MinAccuracy()\n",
        "\n",
        "callbacks_list = [reduce_lr, min_accuracy] #min_accuracy, early_stop, reduce_lr]"
      ],
      "execution_count": 0,
      "outputs": []
    },
    {
      "cell_type": "code",
      "metadata": {
        "id": "OtieRNkhXZuJ",
        "colab_type": "code",
        "colab": {}
      },
      "source": [
        "# ARQUITECTURA RED CONVOLUCIONAL\n",
        "\n",
        "def Net():\n",
        "\n",
        "  modelo = tf.keras.Sequential()\n",
        "  modelo.add(tf.keras.layers.Convolution2D(10, 3, input_shape=(IMAGE_RESIZE, IMAGE_RESIZE, 3), padding='same', strides=(1,1), activation='relu'))\n",
        "  modelo.add(tf.keras.layers.MaxPooling2D(pool_size=(2, 2), strides=(2,2)))\n",
        "  modelo.add(tf.keras.layers.Convolution2D(30, 5, strides=(1,1), activation='relu'))\n",
        "  modelo.add(tf.keras.layers.MaxPooling2D(pool_size=(2, 2), strides=(2,2)))\n",
        "  modelo.add(tf.keras.layers.Convolution2D(64, 4, strides=(1,1), activation='relu'))  \n",
        "  modelo.add(tf.keras.layers.Dropout(0.8))\n",
        "\n",
        "  modelo.add(tf.keras.layers.Flatten())\n",
        "  modelo.add(tf.keras.layers.Dense(64, activation='relu')) \n",
        "  modelo.add(tf.keras.layers.Dense(2, activation='relu')) \n",
        "\n",
        "  modelo.add(tf.keras.layers.Dense(NUM_CLASSES, activation='softmax'))\n",
        "\n",
        "  modelo.summary()\n",
        "  return modelo"
      ],
      "execution_count": 0,
      "outputs": []
    },
    {
      "cell_type": "code",
      "metadata": {
        "id": "lC-7LgOVXbdW",
        "colab_type": "code",
        "outputId": "7823fb86-0b7d-4a4b-d16a-fefedf1e6c6e",
        "colab": {
          "base_uri": "https://localhost:8080/",
          "height": 493
        }
      },
      "source": [
        "modelo = Net()"
      ],
      "execution_count": 0,
      "outputs": [
        {
          "output_type": "stream",
          "text": [
            "Model: \"sequential_1\"\n",
            "_________________________________________________________________\n",
            "Layer (type)                 Output Shape              Param #   \n",
            "=================================================================\n",
            "conv2d_3 (Conv2D)            (None, 32, 32, 10)        280       \n",
            "_________________________________________________________________\n",
            "max_pooling2d_2 (MaxPooling2 (None, 16, 16, 10)        0         \n",
            "_________________________________________________________________\n",
            "conv2d_4 (Conv2D)            (None, 12, 12, 30)        7530      \n",
            "_________________________________________________________________\n",
            "max_pooling2d_3 (MaxPooling2 (None, 6, 6, 30)          0         \n",
            "_________________________________________________________________\n",
            "conv2d_5 (Conv2D)            (None, 3, 3, 64)          30784     \n",
            "_________________________________________________________________\n",
            "dropout_1 (Dropout)          (None, 3, 3, 64)          0         \n",
            "_________________________________________________________________\n",
            "flatten_1 (Flatten)          (None, 576)               0         \n",
            "_________________________________________________________________\n",
            "dense_3 (Dense)              (None, 64)                36928     \n",
            "_________________________________________________________________\n",
            "dense_4 (Dense)              (None, 2)                 130       \n",
            "_________________________________________________________________\n",
            "dense_5 (Dense)              (None, 2)                 6         \n",
            "=================================================================\n",
            "Total params: 75,658\n",
            "Trainable params: 75,658\n",
            "Non-trainable params: 0\n",
            "_________________________________________________________________\n"
          ],
          "name": "stdout"
        }
      ]
    },
    {
      "cell_type": "code",
      "metadata": {
        "id": "fS5o9UqgXfmn",
        "colab_type": "code",
        "colab": {}
      },
      "source": [
        "# OPTIMIZADORES\n",
        "\n",
        "#rms = tf.keras.optimizers.RMSprop(learning_rate=L_RATE, rho=0.9)\n",
        "#adam = tf.keras.optimizers.Adam(learning_rate=L_RATE, beta_1=0.9, beta_2=0.999, amsgrad=False)\n",
        "#adamax = tf.keras.optimizers.Adamax(lr=L_RATE, beta_1=0.9, beta_2=0.999)\n",
        "sgd = tf.keras.optimizers.SGD(lr=L_RATE, decay=0.0005, momentum=0.9)\n",
        "\n",
        "#modelo.compile(loss='categorical_crossentropy', optimizer=adam, metrics=['accuracy'])\n",
        "modelo.compile(loss='categorical_crossentropy', optimizer=sgd, metrics=['accuracy'])"
      ],
      "execution_count": 0,
      "outputs": []
    },
    {
      "cell_type": "code",
      "metadata": {
        "id": "zHYa-93LXhl3",
        "colab_type": "code",
        "outputId": "3a21b571-c205-49f5-f3be-949ed8d4bf56",
        "colab": {
          "base_uri": "https://localhost:8080/",
          "height": 629
        }
      },
      "source": [
        "# ENTRENAMIENTO MODELO \n",
        "\n",
        "m = modelo.fit(\n",
        "          train_generator,\n",
        "          steps_per_epoch = STEP_SIZE_TRAIN, \n",
        "          epochs = EPOCHS,\n",
        "          validation_data = validation_generator,\n",
        "          callbacks = callbacks_list,\n",
        "          validation_steps = STEP_SIZE_VAL\n",
        "          )"
      ],
      "execution_count": 0,
      "outputs": [
        {
          "output_type": "stream",
          "text": [
            "Epoch 1/30\n",
            "1309/1309 [==============================] - 38s 29ms/step - loss: 0.5218 - accuracy: 0.7012 - val_loss: 0.4347 - val_accuracy: 0.8553 - lr: 0.0100\n",
            "Epoch 2/30\n",
            "1309/1309 [==============================] - 37s 28ms/step - loss: 0.2388 - accuracy: 0.9105 - val_loss: 0.3735 - val_accuracy: 0.9062 - lr: 0.0100\n",
            "Epoch 3/30\n",
            "1309/1309 [==============================] - 36s 28ms/step - loss: 0.1555 - accuracy: 0.9484 - val_loss: 0.2606 - val_accuracy: 0.9447 - lr: 0.0100\n",
            "Epoch 4/30\n",
            "1309/1309 [==============================] - 37s 28ms/step - loss: 0.1209 - accuracy: 0.9607 - val_loss: 0.2128 - val_accuracy: 0.9498 - lr: 0.0100\n",
            "Epoch 5/30\n",
            "1309/1309 [==============================] - 37s 28ms/step - loss: 0.1016 - accuracy: 0.9672 - val_loss: 0.2290 - val_accuracy: 0.9491 - lr: 0.0100\n",
            "Epoch 6/30\n",
            "1309/1309 [==============================] - 37s 28ms/step - loss: 0.0855 - accuracy: 0.9732 - val_loss: 0.2615 - val_accuracy: 0.9339 - lr: 0.0100\n",
            "Epoch 7/30\n",
            "1309/1309 [==============================] - 37s 28ms/step - loss: 0.0778 - accuracy: 0.9762 - val_loss: 0.2148 - val_accuracy: 0.9577 - lr: 0.0100\n",
            "Epoch 8/30\n",
            "1309/1309 [==============================] - 37s 28ms/step - loss: 0.0703 - accuracy: 0.9784 - val_loss: 0.1968 - val_accuracy: 0.9588 - lr: 0.0100\n",
            "Epoch 9/30\n",
            "1309/1309 [==============================] - 37s 28ms/step - loss: 0.0659 - accuracy: 0.9799 - val_loss: 0.2129 - val_accuracy: 0.9510 - lr: 0.0100\n",
            "Epoch 10/30\n",
            "1309/1309 [==============================] - 37s 28ms/step - loss: 0.0613 - accuracy: 0.9817 - val_loss: 0.2279 - val_accuracy: 0.9532 - lr: 0.0100\n",
            "Epoch 11/30\n",
            "1309/1309 [==============================] - 37s 28ms/step - loss: 0.0597 - accuracy: 0.9820 - val_loss: 0.2071 - val_accuracy: 0.9610 - lr: 0.0100\n",
            "Epoch 12/30\n",
            "1309/1309 [==============================] - 37s 28ms/step - loss: 0.0566 - accuracy: 0.9831 - val_loss: 0.1941 - val_accuracy: 0.9615 - lr: 0.0100\n",
            "Epoch 13/30\n",
            "1309/1309 [==============================] - 37s 28ms/step - loss: 0.0528 - accuracy: 0.9845 - val_loss: 0.2031 - val_accuracy: 0.9617 - lr: 0.0100\n",
            "Epoch 14/30\n",
            "1309/1309 [==============================] - 37s 28ms/step - loss: 0.0529 - accuracy: 0.9839 - val_loss: 0.1583 - val_accuracy: 0.9607 - lr: 0.0100\n",
            "Epoch 15/30\n",
            "1309/1309 [==============================] - 37s 29ms/step - loss: 0.0485 - accuracy: 0.9858 - val_loss: 0.2051 - val_accuracy: 0.9627 - lr: 0.0100\n",
            "Epoch 16/30\n",
            "1309/1309 [==============================] - 37s 28ms/step - loss: 0.0497 - accuracy: 0.9856 - val_loss: 0.1769 - val_accuracy: 0.9595 - lr: 0.0100\n",
            "Epoch 17/30\n",
            "1307/1309 [============================>.] - ETA: 0s - loss: 0.0475 - accuracy: 0.9863\n",
            "Se ha alcanzado un precisión del 98.00% , paramos entrenamiento!!\n",
            "1309/1309 [==============================] - 37s 28ms/step - loss: 0.0475 - accuracy: 0.9863 - val_loss: 0.1941 - val_accuracy: 0.9628 - lr: 0.0100\n"
          ],
          "name": "stdout"
        }
      ]
    },
    {
      "cell_type": "code",
      "metadata": {
        "id": "NiTK8ntHGO4W",
        "colab_type": "code",
        "outputId": "2fa75159-ed6e-40bf-a075-dca33660a5b9",
        "colab": {
          "base_uri": "https://localhost:8080/",
          "height": 279
        }
      },
      "source": [
        "# VISUALIZACIONES\n",
        "\n",
        "from pylab import *\n",
        "%matplotlib inline\n",
        "\n",
        "_, ax1 = subplots()\n",
        "ax2 = ax1.twinx()\n",
        "ax1.plot(m.history['loss'], 'b')\n",
        "ax2.plot(m.history['val_accuracy'], 'r')\n",
        "ax1.set_xlabel('iteration')\n",
        "ax1.set_ylabel('train loss')\n",
        "ax2.set_ylabel('test accuracy')\n",
        "ax2.set_xlabel('Test accuracy: {:.2f}'.format(m.history['val_accuracy'][-1]))\n",
        "\n",
        "plt.savefig(DIR_GDRIVE_PLOTS + \"modelo_\" + str(NUM_CLASSES) + \"_\" + str(EPOCHS) + \"_Net_1.png\")"
      ],
      "execution_count": 0,
      "outputs": [
        {
          "output_type": "display_data",
          "data": {
            "image/png": "[encoded data removed]",
            "text/plain": [
              "<Figure size 432x288 with 2 Axes>"
            ]
          },
          "metadata": {
            "tags": [],
            "needs_background": "light"
          }
        }
      ]
    },
    {
      "cell_type": "code",
      "metadata": {
        "id": "rfM0lZPgGrOH",
        "colab_type": "code",
        "outputId": "71ccf904-bf81-466f-b356-28d02f6e3e6d",
        "colab": {
          "base_uri": "https://localhost:8080/",
          "height": 549
        }
      },
      "source": [
        "plt.figure()\n",
        "plt.ylabel(\"Loss (training and validation)\")\n",
        "plt.xlabel(\"Training Steps\")\n",
        "plt.ylim([0,2])\n",
        "plt.plot(m.history[\"loss\"], 'b')\n",
        "plt.plot(m.history[\"val_loss\"], 'r')\n",
        "\n",
        "plt.savefig(DIR_GDRIVE_PLOTS + \"modelo_\" + str(NUM_CLASSES) + \"_\" + str(EPOCHS) + \"_Net_2.png\")\n",
        "\n",
        "plt.figure()\n",
        "plt.ylabel(\"Accuracy (training and validation)\")\n",
        "plt.xlabel(\"Training Steps\")\n",
        "plt.ylim([0,1])\n",
        "plt.plot(m.history[\"accuracy\"], 'b')\n",
        "plt.plot(m.history[\"val_accuracy\"], 'r')\n",
        "\n",
        "plt.savefig(DIR_GDRIVE_PLOTS + \"modelo_\" + str(NUM_CLASSES) + \"_\" + str(EPOCHS) + \"_Net_3.png\")"
      ],
      "execution_count": 0,
      "outputs": [
        {
          "output_type": "display_data",
          "data": {
            "image/png": "[encoded data removed]",
            "text/plain": [
              "<Figure size 432x288 with 1 Axes>"
            ]
          },
          "metadata": {
            "tags": [],
            "needs_background": "light"
          }
        },
        {
          "output_type": "display_data",
          "data": {
            "image/png": "[encoded data removed]",
            "text/plain": [
              "<Figure size 432x288 with 1 Axes>"
            ]
          },
          "metadata": {
            "tags": [],
            "needs_background": "light"
          }
        }
      ]
    },
    {
      "cell_type": "code",
      "metadata": {
        "id": "STICnGygkRgk",
        "colab_type": "code",
        "outputId": "bdda06a1-e91a-467f-f926-9a936c6489d1",
        "colab": {
          "base_uri": "https://localhost:8080/",
          "height": 139
        }
      },
      "source": [
        "# ALMACENAMOS LOS PESOS DE NUESTRO MODELO ENTRENADO\n",
        "\n",
        "modelo.save(DIR_GDRIVE + \"modelo_\" + str(NUM_CLASSES) + \"_\" + str(EPOCHS) + \"_Net\") \n",
        "print(\"Saved model to disk\")\n",
        "\n",
        "modelo.save_weights(DIR_GDRIVE + \"modelo_\" + str(NUM_CLASSES) + \"_\" + str(EPOCHS) + \"_Net_weights.h5\")\n",
        "print(\"Saved model weights to disk\")"
      ],
      "execution_count": 0,
      "outputs": [
        {
          "output_type": "stream",
          "text": [
            "WARNING:tensorflow:From /usr/local/lib/python3.6/dist-packages/tensorflow/python/ops/resource_variable_ops.py:1817: calling BaseResourceVariable.__init__ (from tensorflow.python.ops.resource_variable_ops) with constraint is deprecated and will be removed in a future version.\n",
            "Instructions for updating:\n",
            "If using Keras pass *_constraint arguments to layers.\n",
            "INFO:tensorflow:Assets written to: /content/gdrive/My Drive/TFM/modelos/modelo_2_30_Net/assets\n",
            "Saved model to disk\n",
            "Saved model weights to disk\n"
          ],
          "name": "stdout"
        }
      ]
    },
    {
      "cell_type": "code",
      "metadata": {
        "id": "hGskFVquD60h",
        "colab_type": "code",
        "colab": {}
      },
      "source": [
        "def load_trained_model(path, flag):\n",
        "\n",
        "  if flag:\n",
        "    m = pNet()\n",
        "    m.load_weights(path + \"_weights.h5\")\n",
        "  else:\n",
        "    m = tf.keras.models.load_model(path)\n",
        "  return m"
      ],
      "execution_count": 0,
      "outputs": []
    },
    {
      "cell_type": "code",
      "metadata": {
        "id": "KjLneLpno74N",
        "colab_type": "code",
        "colab": {}
      },
      "source": [
        "# VISUALIZACION SECCIONES IMAGENES 32x32\n",
        "\n",
        "def showGridImage(img_array):\n",
        "  plt.figure(figsize=(8,8))\n",
        "  plt.subplots_adjust(hspace=0.2)\n",
        "  for n in range(sub_images**2):\n",
        "    plt.subplot(sub_images, sub_images, n+1)\n",
        "    plt.imshow(img_array[n], cmap=\"gray\")\n",
        "    plt.axis('off')"
      ],
      "execution_count": 0,
      "outputs": []
    },
    {
      "cell_type": "code",
      "metadata": {
        "id": "wgoS1rOOo-Jy",
        "colab_type": "code",
        "colab": {}
      },
      "source": [
        "# VISUALIZACION PREDICCION IMAGENES 32x32\n",
        "\n",
        "def predictBlur(modelo, img_array):\n",
        "  testGEN.reset()\n",
        "  predictions = modelo.predict(testGEN, steps=testGEN.n//testGEN.batch_size, verbose=1)\n",
        "  image_batch = next(testGEN)\n",
        "\n",
        "  plt.figure(figsize=(5,5))\n",
        "  plt.subplots_adjust(hspace=0.3)\n",
        "\n",
        "  for k in range(sub_images**2):\n",
        "    image = image_batch[k]\n",
        "    pred = predictions[k]\n",
        "    the_pred = np.argmax(pred)\n",
        "    predicted = class_names[the_pred]\n",
        "    plt.subplot(sub_images, sub_images, k+1)\n",
        "    plt.imshow(img_array[k], cmap=\"gray\")\n",
        "    color = \"green\" if predicted == \"Focus\" else \"red\"\n",
        "    plt.title(predicted.title(), color=color)\n",
        "    plt.axis('off')\n",
        "    plt.savefig(DIR_GDRIVE_PLOTS + \"model_predict_\" + str(sub_images) + \".png\")"
      ],
      "execution_count": 0,
      "outputs": []
    },
    {
      "cell_type": "code",
      "metadata": {
        "id": "Lxga3LRLYBrr",
        "colab_type": "code",
        "colab": {}
      },
      "source": [
        "#m = load_trained_model(DIR_GDRIVE + \"modelo_\" + str(BATCH_SIZE) + \"_\" + str(EPOCHS) + \"_Net\", False)"
      ],
      "execution_count": 0,
      "outputs": []
    },
    {
      "cell_type": "code",
      "metadata": {
        "id": "z6lDp2zMV1jo",
        "colab_type": "code",
        "outputId": "758810f0-a0c9-4192-f564-aadae47ec839",
        "colab": {
          "base_uri": "https://localhost:8080/",
          "height": 34
        }
      },
      "source": [
        "class_names = sorted(train_generator.class_indices.items(), key=lambda pair:pair[1])\n",
        "class_names = np.array([key.title() for key, value in class_names])\n",
        "print(class_names)"
      ],
      "execution_count": 0,
      "outputs": [
        {
          "output_type": "stream",
          "text": [
            "['Blur' 'Focus']\n"
          ],
          "name": "stdout"
        }
      ]
    },
    {
      "cell_type": "code",
      "metadata": {
        "id": "FM0Pw2rqyKLB",
        "colab_type": "code",
        "outputId": "2ad170f3-943e-499f-e31e-fff4a72c3620",
        "colab": {
          "base_uri": "https://localhost:8080/",
          "height": 106
        }
      },
      "source": [
        "\n",
        "SIZE = 128\n",
        "\n",
        "#img = cv.imread(DIR_GDRIVE + \"photos/IMG_1591717005.png\") # Blur\n",
        "#img = cv.imread(DIR_GDRIVE + \"photos/IMG_1591716996.png\") # Focus\n",
        "\n",
        "#img = cv.imread(DIR_GDRIVE + \"photos/IMG_1591717516.png\") # Blur\n",
        "\n",
        "# 128\n",
        "img = cv.imread(DIR_GDRIVE + \"photos/IMG_1591718605.png\") # Blur\n",
        "#img = cv.imread(DIR_GDRIVE + \"photos/IMG_1591718593.png\") # Focus\n",
        "\n",
        "\n",
        "#img = cv.resize(img, (SIZE, SIZE), interpolation = cv.INTER_AREA)\n",
        "figure(figsize=(1,1)) \n",
        "plt.imshow(img, cmap='gray');"
      ],
      "execution_count": 0,
      "outputs": [
        {
          "output_type": "display_data",
          "data": {
            "image/png": "[encoded data removed]",
            "text/plain": [
              "<Figure size 72x72 with 1 Axes>"
            ]
          },
          "metadata": {
            "tags": [],
            "needs_background": "light"
          }
        }
      ]
    },
    {
      "cell_type": "code",
      "metadata": {
        "id": "msqrZjsJ0HKd",
        "colab_type": "code",
        "outputId": "6666b6c0-ea52-4142-b484-d38e7dc602c0",
        "colab": {
          "base_uri": "https://localhost:8080/",
          "height": 34
        }
      },
      "source": [
        "# CROP IMAGE \n",
        "x = y = 0\n",
        "h = w = IMAGE_RESIZE\n",
        "img_array = []\n",
        "sub_images = int(img.shape[0] / IMAGE_RESIZE)\n",
        "print(\"Número de divisiones en la imagen: \", sub_images**2)\n",
        "\n",
        "for j in range(sub_images):\n",
        "  for z in range (sub_images):\n",
        "    x = IMAGE_RESIZE * z \n",
        "    y = IMAGE_RESIZE * j\n",
        "    img_crop = img[y:y+h, x:x+w]\n",
        "    img_array.append(img_crop)"
      ],
      "execution_count": 0,
      "outputs": [
        {
          "output_type": "stream",
          "text": [
            "Número de divisiones en la imagen:  16\n"
          ],
          "name": "stdout"
        }
      ]
    },
    {
      "cell_type": "code",
      "metadata": {
        "id": "-w2XbMM-Yuoh",
        "colab_type": "code",
        "colab": {}
      },
      "source": [
        "showGridImage(img_array)"
      ],
      "execution_count": 0,
      "outputs": []
    },
    {
      "cell_type": "code",
      "metadata": {
        "id": "V9LoUShcDJoy",
        "colab_type": "code",
        "outputId": "6105dab8-0ea8-4a82-9d1b-f27a1a621ca1",
        "colab": {
          "base_uri": "https://localhost:8080/",
          "height": 289
        }
      },
      "source": [
        "# ALMACENAMOS LA IMAGEN EN GDRIVE\n",
        "index=0\n",
        "\n",
        "for im in img_array:\n",
        "  path = DIR_GDRIVE + 'imagen/test/' + str(index) + '.png'\n",
        "  print(path)\n",
        "  cv.imwrite(path, im)\n",
        "  index += 1"
      ],
      "execution_count": 0,
      "outputs": [
        {
          "output_type": "stream",
          "text": [
            "/content/gdrive/My Drive/TFM/modelos/imagen/test/0.png\n",
            "/content/gdrive/My Drive/TFM/modelos/imagen/test/1.png\n",
            "/content/gdrive/My Drive/TFM/modelos/imagen/test/2.png\n",
            "/content/gdrive/My Drive/TFM/modelos/imagen/test/3.png\n",
            "/content/gdrive/My Drive/TFM/modelos/imagen/test/4.png\n",
            "/content/gdrive/My Drive/TFM/modelos/imagen/test/5.png\n",
            "/content/gdrive/My Drive/TFM/modelos/imagen/test/6.png\n",
            "/content/gdrive/My Drive/TFM/modelos/imagen/test/7.png\n",
            "/content/gdrive/My Drive/TFM/modelos/imagen/test/8.png\n",
            "/content/gdrive/My Drive/TFM/modelos/imagen/test/9.png\n",
            "/content/gdrive/My Drive/TFM/modelos/imagen/test/10.png\n",
            "/content/gdrive/My Drive/TFM/modelos/imagen/test/11.png\n",
            "/content/gdrive/My Drive/TFM/modelos/imagen/test/12.png\n",
            "/content/gdrive/My Drive/TFM/modelos/imagen/test/13.png\n",
            "/content/gdrive/My Drive/TFM/modelos/imagen/test/14.png\n",
            "/content/gdrive/My Drive/TFM/modelos/imagen/test/15.png\n"
          ],
          "name": "stdout"
        }
      ]
    },
    {
      "cell_type": "code",
      "metadata": {
        "id": "IpGwt8_RF5rM",
        "colab_type": "code",
        "outputId": "f167beeb-d977-4aac-a1b0-fc1e7259498d",
        "colab": {
          "base_uri": "https://localhost:8080/",
          "height": 34
        }
      },
      "source": [
        "imageGenerator = ImageDataGenerator()\n",
        "path = DIR_GDRIVE + 'imagen/'\n",
        "\n",
        "batch_size = sub_images**2\n",
        "\n",
        "testGEN = imageGenerator.flow_from_directory(\n",
        "          directory= path,\n",
        "          target_size=(IMAGE_RESIZE, IMAGE_RESIZE),\n",
        "          batch_size=batch_size,\n",
        "          class_mode=None\n",
        "      );"
      ],
      "execution_count": 0,
      "outputs": [
        {
          "output_type": "stream",
          "text": [
            "Found 16 images belonging to 1 classes.\n"
          ],
          "name": "stdout"
        }
      ]
    },
    {
      "cell_type": "code",
      "metadata": {
        "id": "n98e89lPRRse",
        "colab_type": "code",
        "outputId": "04da6952-a65c-40b3-b72e-9e6a0aa93a20",
        "colab": {
          "base_uri": "https://localhost:8080/",
          "height": 336
        }
      },
      "source": [
        "# PREDICCION\n",
        "predictBlur(modelo, img_array)"
      ],
      "execution_count": 0,
      "outputs": [
        {
          "output_type": "stream",
          "text": [
            "1/1 [==============================] - 0s 1ms/step\n"
          ],
          "name": "stdout"
        },
        {
          "output_type": "display_data",
          "data": {
            "image/png": "[encoded data removed]",
            "text/plain": [
              "<Figure size 360x360 with 16 Axes>"
            ]
          },
          "metadata": {
            "tags": [],
            "needs_background": "light"
          }
        }
      ]
    },
    {
      "cell_type": "code",
      "metadata": {
        "id": "B1_qNFjPYPyt",
        "colab_type": "code",
        "colab": {}
      },
      "source": [
        "#keras_model = tf.keras.models.load_model(DIR_GDRIVE + \"modelo_32x3pNET\")"
      ],
      "execution_count": 0,
      "outputs": []
    },
    {
      "cell_type": "code",
      "metadata": {
        "id": "qQvQB-T5PjoS",
        "colab_type": "code",
        "colab": {}
      },
      "source": [
        "# Convert model to tensorflowLite\n",
        "\n",
        "converter = tf.lite.TFLiteConverter.from_keras_model(keras_model)\n",
        "tf_lite_model = converter.convert()\n",
        "open(DIR_GDRIVE + \"modeloLite_32xpNet\", \"wb\").write(tf_lite_model)"
      ],
      "execution_count": 0,
      "outputs": []
    }
  ]
}